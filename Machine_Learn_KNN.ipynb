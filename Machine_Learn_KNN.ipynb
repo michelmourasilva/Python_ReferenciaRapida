{
  "nbformat": 4,
  "nbformat_minor": 0,
  "metadata": {
    "colab": {
      "name": "Machine Learn - KNN.ipynb",
      "provenance": []
    },
    "kernelspec": {
      "name": "python3",
      "display_name": "Python 3"
    }
  },
  "cells": [
    {
      "cell_type": "markdown",
      "metadata": {
        "id": "5wtiyb_Uu3PX",
        "colab_type": "text"
      },
      "source": [
        "Material da live (https://www.youtube.com/watch?v=F6ZLolvumLk&list=PLIHpLBNsiHE2FuCovm4Mx0Cx1rpJusk9K&index=2) do canal minerando dados com anotações personalizadas\n",
        "# **K Nearest Neighbors - KNN Vizinhos próximos**\n",
        "\n",
        "- Classifica ou prediz amostras de dados estejam em planos similares\n",
        "\n",
        "Como funciona?\n",
        "\n",
        "- Primeira etapa: **Inicialização**\n",
        "  - Preparar conjunto de dados de entrada e saída (Pegar o dataset de entrada e especificar o que é entrada e saída. O que são as features(dados que serão utilizados para aprendizado do algoritimo) e o que é a classe (O que está sendo classificado).\n",
        "  - Preparar o valor de K (O parâmetro K especifica quantas amostras serão comparados)\n",
        "  - **Para** cada nova amostra **faça**:\n",
        "    - Calcula distância para todas as amostras e todas as amostras do conjunto de treinamento\n",
        "    - Determina o conjunto de K's distâncias mais próximas\n",
        "    - No cenário de classificação (mais utilizada com Knn), o rótulo com mais representantes no conjunto dos K's\n",
        "    - Vizinho será o escolhido\n",
        "  - Fim **para**\n",
        "  - **Retornar**: conjunto de rótulos de classificação"
      ]
    },
    {
      "cell_type": "markdown",
      "metadata": {
        "id": "EmGlKrMNyED7",
        "colab_type": "text"
      },
      "source": [
        "IMPORTAR AS BIBLIOTECAS NECESSÁRIAS\n"
      ]
    },
    {
      "cell_type": "code",
      "metadata": {
        "id": "U5Kgc64WyBlS",
        "colab_type": "code",
        "colab": {
          "base_uri": "https://localhost:8080/",
          "height": 275
        },
        "outputId": "6bc8939c-ba2d-49a8-b640-0d5f0b4515e4"
      },
      "source": [
        "from sklearn import datasets\n",
        "import pandas as pd\n",
        "import matplotlib.pyplot as plt\n",
        "!pip install mlxtend\n",
        "from mlxtend.plotting import plot_decision_regions"
      ],
      "execution_count": 4,
      "outputs": [
        {
          "output_type": "stream",
          "text": [
            "Requirement already satisfied: mlxtend in /usr/local/lib/python3.6/dist-packages (0.14.0)\n",
            "Requirement already satisfied: numpy>=1.10.4 in /usr/local/lib/python3.6/dist-packages (from mlxtend) (1.18.5)\n",
            "Requirement already satisfied: scikit-learn>=0.18 in /usr/local/lib/python3.6/dist-packages (from mlxtend) (0.22.2.post1)\n",
            "Requirement already satisfied: scipy>=0.17 in /usr/local/lib/python3.6/dist-packages (from mlxtend) (1.4.1)\n",
            "Requirement already satisfied: pandas>=0.17.1 in /usr/local/lib/python3.6/dist-packages (from mlxtend) (1.0.5)\n",
            "Requirement already satisfied: matplotlib>=1.5.1 in /usr/local/lib/python3.6/dist-packages (from mlxtend) (3.2.2)\n",
            "Requirement already satisfied: setuptools in /usr/local/lib/python3.6/dist-packages (from mlxtend) (49.6.0)\n",
            "Requirement already satisfied: joblib>=0.11 in /usr/local/lib/python3.6/dist-packages (from scikit-learn>=0.18->mlxtend) (0.16.0)\n",
            "Requirement already satisfied: pytz>=2017.2 in /usr/local/lib/python3.6/dist-packages (from pandas>=0.17.1->mlxtend) (2018.9)\n",
            "Requirement already satisfied: python-dateutil>=2.6.1 in /usr/local/lib/python3.6/dist-packages (from pandas>=0.17.1->mlxtend) (2.8.1)\n",
            "Requirement already satisfied: kiwisolver>=1.0.1 in /usr/local/lib/python3.6/dist-packages (from matplotlib>=1.5.1->mlxtend) (1.2.0)\n",
            "Requirement already satisfied: pyparsing!=2.0.4,!=2.1.2,!=2.1.6,>=2.0.1 in /usr/local/lib/python3.6/dist-packages (from matplotlib>=1.5.1->mlxtend) (2.4.7)\n",
            "Requirement already satisfied: cycler>=0.10 in /usr/local/lib/python3.6/dist-packages (from matplotlib>=1.5.1->mlxtend) (0.10.0)\n",
            "Requirement already satisfied: six>=1.5 in /usr/local/lib/python3.6/dist-packages (from python-dateutil>=2.6.1->pandas>=0.17.1->mlxtend) (1.15.0)\n"
          ],
          "name": "stdout"
        }
      ]
    },
    {
      "cell_type": "code",
      "metadata": {
        "id": "Qyh91Lj-yySc",
        "colab_type": "code",
        "colab": {}
      },
      "source": [
        "# Base de dados wine\n",
        "wine = datasets.load_wine()\n",
        "\n",
        "# criando dataframe\n",
        "df_wine = pd.DataFrame(data=wine.data, columns=wine.feature_names)\n",
        "# Como no dataframe não existe um atributo de classe, deverá ser criado um novo atributo com base no atributo wine.target\n",
        "df_wine['class'] = wine.target"
      ],
      "execution_count": 12,
      "outputs": []
    },
    {
      "cell_type": "code",
      "metadata": {
        "id": "RmfiA8gQ0Jv4",
        "colab_type": "code",
        "colab": {}
      },
      "source": [
        "df_wine.head()"
      ],
      "execution_count": null,
      "outputs": []
    },
    {
      "cell_type": "code",
      "metadata": {
        "id": "eqKKw6lc0Kfy",
        "colab_type": "code",
        "colab": {
          "base_uri": "https://localhost:8080/",
          "height": 374
        },
        "outputId": "1bc6dcff-b3ef-4f5d-eebc-3b0e7526a709"
      },
      "source": [
        "df_wine.info()\n",
        "# Como a base de dados está correnta, com tipos de dados corretos, sem nulos não houve necessidade de limpa-los"
      ],
      "execution_count": 13,
      "outputs": [
        {
          "output_type": "stream",
          "text": [
            "<class 'pandas.core.frame.DataFrame'>\n",
            "RangeIndex: 178 entries, 0 to 177\n",
            "Data columns (total 14 columns):\n",
            " #   Column                        Non-Null Count  Dtype  \n",
            "---  ------                        --------------  -----  \n",
            " 0   alcohol                       178 non-null    float64\n",
            " 1   malic_acid                    178 non-null    float64\n",
            " 2   ash                           178 non-null    float64\n",
            " 3   alcalinity_of_ash             178 non-null    float64\n",
            " 4   magnesium                     178 non-null    float64\n",
            " 5   total_phenols                 178 non-null    float64\n",
            " 6   flavanoids                    178 non-null    float64\n",
            " 7   nonflavanoid_phenols          178 non-null    float64\n",
            " 8   proanthocyanins               178 non-null    float64\n",
            " 9   color_intensity               178 non-null    float64\n",
            " 10  hue                           178 non-null    float64\n",
            " 11  od280/od315_of_diluted_wines  178 non-null    float64\n",
            " 12  proline                       178 non-null    float64\n",
            " 13  class                         178 non-null    int64  \n",
            "dtypes: float64(13), int64(1)\n",
            "memory usage: 19.6 KB\n"
          ],
          "name": "stdout"
        }
      ]
    },
    {
      "cell_type": "code",
      "metadata": {
        "id": "_G8A8e8u0NnZ",
        "colab_type": "code",
        "colab": {
          "base_uri": "https://localhost:8080/",
          "height": 85
        },
        "outputId": "b61d128d-e134-4ef6-8203-8202588c474b"
      },
      "source": [
        "# verificar as frequencias das amostras das classes\n",
        "df_wine['class'].value_counts()"
      ],
      "execution_count": 14,
      "outputs": [
        {
          "output_type": "execute_result",
          "data": {
            "text/plain": [
              "1    71\n",
              "0    59\n",
              "2    48\n",
              "Name: class, dtype: int64"
            ]
          },
          "metadata": {
            "tags": []
          },
          "execution_count": 14
        }
      ]
    },
    {
      "cell_type": "markdown",
      "metadata": {
        "id": "j1YOtb541Xfn",
        "colab_type": "text"
      },
      "source": [
        "**Quando usar o Algoritmo KNN**\n",
        "\n",
        "- Pode ser utilizado para tarefas: \n",
        "  - Classificação: Uma vez que é ranqueado pelas (k) amostras mais próximas, o algoritimo faz a votação pela classe mais próxima (majoritária) a partir das amostras selecionadas, para determinar a classe da nova amostra de teste. \n",
        "  - Regressão: Ao invés de utilizar ranqueamento de classe, na regressão é calculado o valor médio (média ou mediana) entre as amostras mais próximas.\n",
        "- Simplicidade e fácil interpretação\n",
        "- Arquitetura Lazy (\"Treinamento\" rápido)\n",
        "  - Knn não possui fase de treinamento, ele nao faz nenhuma suposição do seu treino. Eu já chego no resultado aplicando as tarefas de classificação ou regressão.\n",
        "- Flexibilidade de Métodos de Distância (pode ser utilizado vários tipos de métricas de distância)\n",
        "- Rápido tempo de predição\n",
        "- Nenhuma suposição quanto a distribuição dos dados."
      ]
    },
    {
      "cell_type": "code",
      "metadata": {
        "id": "zqGuLN2g0lY6",
        "colab_type": "code",
        "colab": {}
      },
      "source": [
        "# Separando os dados de treino e teste\n",
        "from sklearn.model_selection import train_test_split\n",
        "\n",
        "# conjunto de dados: df_wine.drop('class',axis=1) estará dropando o atributo class da amostra para ser considerado apenas as features\n",
        "# conjunto de classes: df_wine['class'] \n",
        "# test_size = 30% do conjunto de dados será usado pra teste e 70% pra treino\n",
        "# x_train: dados do conjunto de treino\n",
        "# x_test: dados do conjunto de teste\n",
        "# y_train: classes do conjunto de treino\n",
        "# y_test:  classes do conjunto de teste\n",
        "x_train, x_test, y_train, y_test = train_test_split(df_wine.drop('class',axis=1), df_wine['class'], test_size=0.3)"
      ],
      "execution_count": 18,
      "outputs": []
    },
    {
      "cell_type": "code",
      "metadata": {
        "id": "QIaLCiYMAVEp",
        "colab_type": "code",
        "colab": {}
      },
      "source": [
        "# Instanciar o classificador pra trabalhar o KNN\n",
        "from sklearn.neighbors import KNeighborsClassifier"
      ],
      "execution_count": 19,
      "outputs": []
    },
    {
      "cell_type": "markdown",
      "metadata": {
        "id": "YVORhS4SAb-t",
        "colab_type": "text"
      },
      "source": [
        "- **n_neighbors**: Número de vizinhos (Default=5).\n",
        "  - parametro K\n",
        "  - Especifica quantidade de amostras mais proximas serao comparadas para chegar no valor de classe no cenário de classificação\n",
        "  - Quais amostras serão comparadas pra recuperar o valor médio ou da mediana no cenário de regressão\n",
        "- **weights**: Peso de amostras vizinhas (Default=uniform).\n",
        "  - amostras vizinhas mais próximas elas podem ter pesos diferentes\n",
        "- **metric**: Métrica utilizada para o cálculo de distância (Default=minkowski).\n",
        "  - Ex: Euclidiana, Manhattan, Minkowski\n",
        "- **p**: Parametro de poder para a métrica (Default=2).\n",
        "  - Valor aonde é especificado a variação da métrica. Ex = 1 variáção da distância euclidiana\n",
        "- **n_jobs**: Número de jobs paralelos para executar no momento da busca de vizinhos. (Default=1)\n",
        "  - Se -1 >> irá utilizar todos os jobs possíveis no processo de predição"
      ]
    },
    {
      "cell_type": "code",
      "metadata": {
        "id": "0cPFb4YhDKoW",
        "colab_type": "code",
        "colab": {}
      },
      "source": [
        "# Especifica o valor de vizinhos\n",
        "knn = KNeighborsClassifier(n_neighbors=3)"
      ],
      "execution_count": 20,
      "outputs": []
    },
    {
      "cell_type": "code",
      "metadata": {
        "id": "w1qdNHAfELi_",
        "colab_type": "code",
        "colab": {
          "base_uri": "https://localhost:8080/",
          "height": 68
        },
        "outputId": "741b4746-02e6-4793-a859-9cb301b75153"
      },
      "source": [
        "# Treinando o algoritmo com os dados de treinamento (\"preparação\" já que knn não tem etapa de treinamento)\n",
        "knn.fit(x_train, y_train)"
      ],
      "execution_count": 21,
      "outputs": [
        {
          "output_type": "execute_result",
          "data": {
            "text/plain": [
              "KNeighborsClassifier(algorithm='auto', leaf_size=30, metric='minkowski',\n",
              "                     metric_params=None, n_jobs=None, n_neighbors=3, p=2,\n",
              "                     weights='uniform')"
            ]
          },
          "metadata": {
            "tags": []
          },
          "execution_count": 21
        }
      ]
    },
    {
      "cell_type": "code",
      "metadata": {
        "id": "XsTolDxCEb20",
        "colab_type": "code",
        "colab": {
          "base_uri": "https://localhost:8080/",
          "height": 68
        },
        "outputId": "e78c7c26-c157-40c2-b606-2de3b895f611"
      },
      "source": [
        "# Executando KNN com o conjnto de teste\n",
        "resultado = knn.predict(x_test)\n",
        "resultado"
      ],
      "execution_count": 23,
      "outputs": [
        {
          "output_type": "execute_result",
          "data": {
            "text/plain": [
              "array([2, 0, 0, 1, 2, 0, 0, 2, 1, 0, 0, 0, 0, 0, 2, 0, 1, 2, 0, 1, 1, 1,\n",
              "       2, 1, 1, 1, 0, 0, 0, 2, 1, 1, 1, 0, 0, 2, 1, 1, 1, 1, 2, 1, 0, 0,\n",
              "       0, 0, 1, 1, 0, 0, 2, 0, 1, 0])"
            ]
          },
          "metadata": {
            "tags": []
          },
          "execution_count": 23
        }
      ]
    },
    {
      "cell_type": "markdown",
      "metadata": {
        "id": "dYGfTqfREmYU",
        "colab_type": "text"
      },
      "source": [
        "**Técnicas de validação**"
      ]
    },
    {
      "cell_type": "code",
      "metadata": {
        "id": "Bq_nx1-YEj2z",
        "colab_type": "code",
        "colab": {
          "base_uri": "https://localhost:8080/",
          "height": 119
        },
        "outputId": "10d642f3-401b-458c-fc97-aa221582b7a4"
      },
      "source": [
        "# Matriz de confusão\n",
        "print(pd.crosstab(y_test, resultado, rownames=['Real'], colnames=['               Predito'],margins=True))\n",
        "# ideal que seja feito um crossvalidation e não train_test_split"
      ],
      "execution_count": 24,
      "outputs": [
        {
          "output_type": "stream",
          "text": [
            "               Predito   0   1   2  All\n",
            "Real                                   \n",
            "0                       17   1   2   20\n",
            "1                        5  11   1   17\n",
            "2                        2   8   7   17\n",
            "All                     24  20  10   54\n"
          ],
          "name": "stdout"
        }
      ]
    },
    {
      "cell_type": "markdown",
      "metadata": {
        "id": "Rm2VxLwdFZk1",
        "colab_type": "text"
      },
      "source": [
        "**Metricas de classificação**"
      ]
    },
    {
      "cell_type": "code",
      "metadata": {
        "id": "3Uw94VZbFKrr",
        "colab_type": "code",
        "colab": {
          "base_uri": "https://localhost:8080/",
          "height": 187
        },
        "outputId": "4ffd3959-e3d1-45f3-82f7-a080b0261e08"
      },
      "source": [
        "from sklearn import metrics\n",
        "print(metrics.classification_report(y_test, resultado, target_names=wine.target_names))"
      ],
      "execution_count": 26,
      "outputs": [
        {
          "output_type": "stream",
          "text": [
            "              precision    recall  f1-score   support\n",
            "\n",
            "     class_0       0.71      0.85      0.77        20\n",
            "     class_1       0.55      0.65      0.59        17\n",
            "     class_2       0.70      0.41      0.52        17\n",
            "\n",
            "    accuracy                           0.65        54\n",
            "   macro avg       0.65      0.64      0.63        54\n",
            "weighted avg       0.66      0.65      0.64        54\n",
            "\n"
          ],
          "name": "stdout"
        }
      ]
    },
    {
      "cell_type": "markdown",
      "metadata": {
        "id": "AcoLLN2EF0sJ",
        "colab_type": "text"
      },
      "source": [
        "**Otimizando o Parametro K utilizando gridsearch**\n",
        "\n",
        "# Automatiza o processo de escolha de parametros"
      ]
    },
    {
      "cell_type": "code",
      "metadata": {
        "id": "MC97mqLKF5pj",
        "colab_type": "code",
        "colab": {}
      },
      "source": [
        "from sklearn.model_selection import GridSearchCV"
      ],
      "execution_count": 28,
      "outputs": []
    },
    {
      "cell_type": "code",
      "metadata": {
        "id": "AFBvDtcVF9oT",
        "colab_type": "code",
        "colab": {}
      },
      "source": [
        "# Definindo a lista de valores para os parametros\n",
        "k_list = list(range(1,31)) \n",
        "weight_list = ['uniform','distance']\n",
        "p_list = [1,2]"
      ],
      "execution_count": 41,
      "outputs": []
    },
    {
      "cell_type": "code",
      "metadata": {
        "id": "Pm50tt1QGTQ-",
        "colab_type": "code",
        "colab": {}
      },
      "source": [
        "# Cria um dicionário para os parametros serem passados para o gridsearch\n",
        "parametros = dict(n_neighbors=k_list, weights=weight_list, p=p_list)"
      ],
      "execution_count": 42,
      "outputs": []
    },
    {
      "cell_type": "code",
      "metadata": {
        "id": "oqDgk_ymGlWp",
        "colab_type": "code",
        "colab": {
          "base_uri": "https://localhost:8080/",
          "height": 561
        },
        "outputId": "eb2dcf67-3f17-486c-a25f-33bfe84b99bd"
      },
      "source": [
        "parametros"
      ],
      "execution_count": 31,
      "outputs": [
        {
          "output_type": "execute_result",
          "data": {
            "text/plain": [
              "{'n_neighbors': [1,\n",
              "  2,\n",
              "  3,\n",
              "  4,\n",
              "  5,\n",
              "  6,\n",
              "  7,\n",
              "  8,\n",
              "  9,\n",
              "  10,\n",
              "  11,\n",
              "  12,\n",
              "  13,\n",
              "  14,\n",
              "  15,\n",
              "  16,\n",
              "  17,\n",
              "  18,\n",
              "  19,\n",
              "  20,\n",
              "  21,\n",
              "  22,\n",
              "  23,\n",
              "  24,\n",
              "  25,\n",
              "  26,\n",
              "  27,\n",
              "  28,\n",
              "  29,\n",
              "  30],\n",
              " 'p': [1, 2],\n",
              " 'weigth_list': ['uniform', 'distance']}"
            ]
          },
          "metadata": {
            "tags": []
          },
          "execution_count": 31
        }
      ]
    },
    {
      "cell_type": "code",
      "metadata": {
        "id": "XhNZrtiFHLgk",
        "colab_type": "code",
        "colab": {}
      },
      "source": [
        "# instanciando o objeto GridSearch\n",
        "# cv = numero de fontes que vai fazer o processo de validação cruzadas\n",
        "# metrica de scorin é acurácia\n",
        "grid = GridSearchCV(knn, parametros, cv=5, scoring='accuracy')"
      ],
      "execution_count": 43,
      "outputs": []
    },
    {
      "cell_type": "code",
      "metadata": {
        "id": "XD3ptErIHhoQ",
        "colab_type": "code",
        "colab": {
          "base_uri": "https://localhost:8080/",
          "height": 238
        },
        "outputId": "81ee963c-c5f1-46b2-bd7a-d0930dcc3b56"
      },
      "source": [
        "# Treinando o objeto\n",
        "grid.fit(df_wine.drop('class',axis=1), df_wine['class'])\n",
        "# "
      ],
      "execution_count": 44,
      "outputs": [
        {
          "output_type": "execute_result",
          "data": {
            "text/plain": [
              "GridSearchCV(cv=5, error_score=nan,\n",
              "             estimator=KNeighborsClassifier(algorithm='auto', leaf_size=30,\n",
              "                                            metric='minkowski',\n",
              "                                            metric_params=None, n_jobs=None,\n",
              "                                            n_neighbors=3, p=2,\n",
              "                                            weights='uniform'),\n",
              "             iid='deprecated', n_jobs=None,\n",
              "             param_grid={'n_neighbors': [1, 2, 3, 4, 5, 6, 7, 8, 9, 10, 11, 12,\n",
              "                                         13, 14, 15, 16, 17, 18, 19, 20, 21, 22,\n",
              "                                         23, 24, 25, 26, 27, 28, 29, 30],\n",
              "                         'p': [1, 2], 'weights': ['uniform', 'distance']},\n",
              "             pre_dispatch='2*n_jobs', refit=True, return_train_score=False,\n",
              "             scoring='accuracy', verbose=0)"
            ]
          },
          "metadata": {
            "tags": []
          },
          "execution_count": 44
        }
      ]
    },
    {
      "cell_type": "code",
      "metadata": {
        "id": "JIwJOAqDIeki",
        "colab_type": "code",
        "colab": {
          "base_uri": "https://localhost:8080/",
          "height": 1000
        },
        "outputId": "ea566370-b1dd-4e10-cb87-e0a76e9e4339"
      },
      "source": [
        "# Verificar os valores de scores\n",
        "grid.cv_results_"
      ],
      "execution_count": 45,
      "outputs": [
        {
          "output_type": "execute_result",
          "data": {
            "text/plain": [
              "{'mean_fit_time': array([0.00326791, 0.00232048, 0.00215349, 0.00185947, 0.0019331 ,\n",
              "        0.0018023 , 0.0019053 , 0.00190635, 0.0020277 , 0.00208168,\n",
              "        0.00203638, 0.00188785, 0.00214596, 0.00216494, 0.00203557,\n",
              "        0.002004  , 0.00192299, 0.00207481, 0.00196886, 0.00192709,\n",
              "        0.00188808, 0.00183949, 0.00185266, 0.00182438, 0.00188251,\n",
              "        0.00191073, 0.00185571, 0.00189857, 0.0019093 , 0.00199094,\n",
              "        0.0019259 , 0.00262775, 0.00193696, 0.00185132, 0.0020319 ,\n",
              "        0.00192585, 0.00198727, 0.00201383, 0.00199165, 0.00199337,\n",
              "        0.00204911, 0.00191031, 0.00193744, 0.00190897, 0.0019527 ,\n",
              "        0.00195584, 0.00199108, 0.00214243, 0.00196319, 0.00212169,\n",
              "        0.00211401, 0.00195713, 0.00204015, 0.0019506 , 0.00208535,\n",
              "        0.00199981, 0.00193195, 0.00193586, 0.00192723, 0.00200605,\n",
              "        0.00207319, 0.00203209, 0.00188498, 0.00190783, 0.00189676,\n",
              "        0.00191288, 0.00194192, 0.00186563, 0.00226645, 0.0028275 ,\n",
              "        0.0024569 , 0.00238066, 0.00240374, 0.00226908, 0.00308728,\n",
              "        0.00232296, 0.00241241, 0.00233884, 0.00243235, 0.00244627,\n",
              "        0.00246491, 0.00234518, 0.00232058, 0.00262623, 0.00279908,\n",
              "        0.00248303, 0.00269899, 0.00266571, 0.00254169, 0.00246673,\n",
              "        0.00250139, 0.00217981, 0.00227041, 0.00230393, 0.00243034,\n",
              "        0.00252066, 0.00228934, 0.00237684, 0.00253248, 0.00261211,\n",
              "        0.00240579, 0.00233564, 0.00230083, 0.00247564, 0.00282555,\n",
              "        0.0023622 , 0.00235233, 0.00241203, 0.00251451, 0.00310159,\n",
              "        0.00234642, 0.00250993, 0.00258589, 0.00224042, 0.0028101 ,\n",
              "        0.00270944, 0.00243058, 0.00248737, 0.00250182, 0.00265694]),\n",
              " 'mean_score_time': array([0.00340223, 0.00195761, 0.00276642, 0.00158401, 0.00254364,\n",
              "        0.00150623, 0.00243759, 0.00159464, 0.00258698, 0.00174484,\n",
              "        0.00262003, 0.00158505, 0.00265532, 0.00174322, 0.0025703 ,\n",
              "        0.0016345 , 0.00253353, 0.00175157, 0.0025147 , 0.00163093,\n",
              "        0.00248675, 0.00162005, 0.00246692, 0.00152154, 0.00246515,\n",
              "        0.00162082, 0.0024899 , 0.0016099 , 0.00249381, 0.00165243,\n",
              "        0.00248213, 0.00204806, 0.00254602, 0.00160856, 0.00255146,\n",
              "        0.00169783, 0.00253725, 0.00172944, 0.00262213, 0.0017261 ,\n",
              "        0.00263371, 0.00163622, 0.00256438, 0.00168233, 0.00259433,\n",
              "        0.00170302, 0.00260682, 0.00177894, 0.00257783, 0.00200171,\n",
              "        0.00271964, 0.00171518, 0.00257401, 0.00168815, 0.0028616 ,\n",
              "        0.00171847, 0.00259809, 0.00173578, 0.00255308, 0.00171189,\n",
              "        0.0027823 , 0.00182214, 0.00252843, 0.0017067 , 0.00252762,\n",
              "        0.00168767, 0.00260739, 0.00162263, 0.0027905 , 0.0024929 ,\n",
              "        0.00293207, 0.0022861 , 0.00298524, 0.0021502 , 0.00429978,\n",
              "        0.0019928 , 0.00314565, 0.00221171, 0.00301995, 0.00210052,\n",
              "        0.00300412, 0.00216632, 0.00301113, 0.00235023, 0.00343809,\n",
              "        0.00229163, 0.00333028, 0.00247273, 0.00320563, 0.00221305,\n",
              "        0.00321288, 0.00197167, 0.00291209, 0.00208015, 0.00302839,\n",
              "        0.00218544, 0.00302172, 0.00244946, 0.00317903, 0.00230675,\n",
              "        0.00307503, 0.00210276, 0.00294061, 0.00220518, 0.00344324,\n",
              "        0.00219984, 0.00298553, 0.00221906, 0.00312033, 0.00280752,\n",
              "        0.00304017, 0.0023685 , 0.00342741, 0.00224948, 0.00374761,\n",
              "        0.00255475, 0.00325108, 0.00231528, 0.00352168, 0.00237536]),\n",
              " 'mean_test_score': array([0.80936508, 0.80936508, 0.72507937, 0.72507937, 0.74793651,\n",
              "        0.80936508, 0.66365079, 0.72507937, 0.75904762, 0.78142857,\n",
              "        0.70285714, 0.72507937, 0.73111111, 0.77031746, 0.68015873,\n",
              "        0.71396825, 0.71936508, 0.74190476, 0.69126984, 0.71952381,\n",
              "        0.74761905, 0.76460317, 0.69142857, 0.71396825, 0.76444444,\n",
              "        0.75873016, 0.68063492, 0.71396825, 0.7084127 , 0.7647619 ,\n",
              "        0.68015873, 0.7084127 , 0.77555556, 0.77587302, 0.70253968,\n",
              "        0.71936508, 0.76412698, 0.77031746, 0.69111111, 0.69698413,\n",
              "        0.74730159, 0.75904762, 0.67984127, 0.71952381, 0.77555556,\n",
              "        0.77031746, 0.69142857, 0.71396825, 0.75857143, 0.7815873 ,\n",
              "        0.70793651, 0.71380952, 0.76444444, 0.77603175, 0.70285714,\n",
              "        0.70825397, 0.77      , 0.78714286, 0.71380952, 0.7084127 ,\n",
              "        0.7531746 , 0.76492063, 0.69730159, 0.71984127, 0.74730159,\n",
              "        0.77603175, 0.69714286, 0.71984127, 0.74206349, 0.77047619,\n",
              "        0.70285714, 0.70857143, 0.73619048, 0.77587302, 0.70285714,\n",
              "        0.71984127, 0.7252381 , 0.77587302, 0.70825397, 0.7084127 ,\n",
              "        0.72507937, 0.77587302, 0.71952381, 0.70857143, 0.7084127 ,\n",
              "        0.7647619 , 0.70253968, 0.71396825, 0.73619048, 0.77015873,\n",
              "        0.70253968, 0.70857143, 0.72507937, 0.75888889, 0.69698413,\n",
              "        0.70857143, 0.71952381, 0.77      , 0.7084127 , 0.70285714,\n",
              "        0.71380952, 0.76444444, 0.69698413, 0.7084127 , 0.72507937,\n",
              "        0.77015873, 0.70825397, 0.70825397, 0.7252381 , 0.77031746,\n",
              "        0.71396825, 0.71396825, 0.73079365, 0.77571429, 0.71968254,\n",
              "        0.69714286, 0.7252381 , 0.77015873, 0.71968254, 0.71396825]),\n",
              " 'param_n_neighbors': masked_array(data=[1, 1, 1, 1, 2, 2, 2, 2, 3, 3, 3, 3, 4, 4, 4, 4, 5, 5,\n",
              "                    5, 5, 6, 6, 6, 6, 7, 7, 7, 7, 8, 8, 8, 8, 9, 9, 9, 9,\n",
              "                    10, 10, 10, 10, 11, 11, 11, 11, 12, 12, 12, 12, 13, 13,\n",
              "                    13, 13, 14, 14, 14, 14, 15, 15, 15, 15, 16, 16, 16, 16,\n",
              "                    17, 17, 17, 17, 18, 18, 18, 18, 19, 19, 19, 19, 20, 20,\n",
              "                    20, 20, 21, 21, 21, 21, 22, 22, 22, 22, 23, 23, 23, 23,\n",
              "                    24, 24, 24, 24, 25, 25, 25, 25, 26, 26, 26, 26, 27, 27,\n",
              "                    27, 27, 28, 28, 28, 28, 29, 29, 29, 29, 30, 30, 30, 30],\n",
              "              mask=[False, False, False, False, False, False, False, False,\n",
              "                    False, False, False, False, False, False, False, False,\n",
              "                    False, False, False, False, False, False, False, False,\n",
              "                    False, False, False, False, False, False, False, False,\n",
              "                    False, False, False, False, False, False, False, False,\n",
              "                    False, False, False, False, False, False, False, False,\n",
              "                    False, False, False, False, False, False, False, False,\n",
              "                    False, False, False, False, False, False, False, False,\n",
              "                    False, False, False, False, False, False, False, False,\n",
              "                    False, False, False, False, False, False, False, False,\n",
              "                    False, False, False, False, False, False, False, False,\n",
              "                    False, False, False, False, False, False, False, False,\n",
              "                    False, False, False, False, False, False, False, False,\n",
              "                    False, False, False, False, False, False, False, False,\n",
              "                    False, False, False, False, False, False, False, False],\n",
              "        fill_value='?',\n",
              "             dtype=object),\n",
              " 'param_p': masked_array(data=[1, 1, 2, 2, 1, 1, 2, 2, 1, 1, 2, 2, 1, 1, 2, 2, 1, 1,\n",
              "                    2, 2, 1, 1, 2, 2, 1, 1, 2, 2, 1, 1, 2, 2, 1, 1, 2, 2,\n",
              "                    1, 1, 2, 2, 1, 1, 2, 2, 1, 1, 2, 2, 1, 1, 2, 2, 1, 1,\n",
              "                    2, 2, 1, 1, 2, 2, 1, 1, 2, 2, 1, 1, 2, 2, 1, 1, 2, 2,\n",
              "                    1, 1, 2, 2, 1, 1, 2, 2, 1, 1, 2, 2, 1, 1, 2, 2, 1, 1,\n",
              "                    2, 2, 1, 1, 2, 2, 1, 1, 2, 2, 1, 1, 2, 2, 1, 1, 2, 2,\n",
              "                    1, 1, 2, 2, 1, 1, 2, 2, 1, 1, 2, 2],\n",
              "              mask=[False, False, False, False, False, False, False, False,\n",
              "                    False, False, False, False, False, False, False, False,\n",
              "                    False, False, False, False, False, False, False, False,\n",
              "                    False, False, False, False, False, False, False, False,\n",
              "                    False, False, False, False, False, False, False, False,\n",
              "                    False, False, False, False, False, False, False, False,\n",
              "                    False, False, False, False, False, False, False, False,\n",
              "                    False, False, False, False, False, False, False, False,\n",
              "                    False, False, False, False, False, False, False, False,\n",
              "                    False, False, False, False, False, False, False, False,\n",
              "                    False, False, False, False, False, False, False, False,\n",
              "                    False, False, False, False, False, False, False, False,\n",
              "                    False, False, False, False, False, False, False, False,\n",
              "                    False, False, False, False, False, False, False, False,\n",
              "                    False, False, False, False, False, False, False, False],\n",
              "        fill_value='?',\n",
              "             dtype=object),\n",
              " 'param_weights': masked_array(data=['uniform', 'distance', 'uniform', 'distance',\n",
              "                    'uniform', 'distance', 'uniform', 'distance',\n",
              "                    'uniform', 'distance', 'uniform', 'distance',\n",
              "                    'uniform', 'distance', 'uniform', 'distance',\n",
              "                    'uniform', 'distance', 'uniform', 'distance',\n",
              "                    'uniform', 'distance', 'uniform', 'distance',\n",
              "                    'uniform', 'distance', 'uniform', 'distance',\n",
              "                    'uniform', 'distance', 'uniform', 'distance',\n",
              "                    'uniform', 'distance', 'uniform', 'distance',\n",
              "                    'uniform', 'distance', 'uniform', 'distance',\n",
              "                    'uniform', 'distance', 'uniform', 'distance',\n",
              "                    'uniform', 'distance', 'uniform', 'distance',\n",
              "                    'uniform', 'distance', 'uniform', 'distance',\n",
              "                    'uniform', 'distance', 'uniform', 'distance',\n",
              "                    'uniform', 'distance', 'uniform', 'distance',\n",
              "                    'uniform', 'distance', 'uniform', 'distance',\n",
              "                    'uniform', 'distance', 'uniform', 'distance',\n",
              "                    'uniform', 'distance', 'uniform', 'distance',\n",
              "                    'uniform', 'distance', 'uniform', 'distance',\n",
              "                    'uniform', 'distance', 'uniform', 'distance',\n",
              "                    'uniform', 'distance', 'uniform', 'distance',\n",
              "                    'uniform', 'distance', 'uniform', 'distance',\n",
              "                    'uniform', 'distance', 'uniform', 'distance',\n",
              "                    'uniform', 'distance', 'uniform', 'distance',\n",
              "                    'uniform', 'distance', 'uniform', 'distance',\n",
              "                    'uniform', 'distance', 'uniform', 'distance',\n",
              "                    'uniform', 'distance', 'uniform', 'distance',\n",
              "                    'uniform', 'distance', 'uniform', 'distance',\n",
              "                    'uniform', 'distance', 'uniform', 'distance',\n",
              "                    'uniform', 'distance', 'uniform', 'distance'],\n",
              "              mask=[False, False, False, False, False, False, False, False,\n",
              "                    False, False, False, False, False, False, False, False,\n",
              "                    False, False, False, False, False, False, False, False,\n",
              "                    False, False, False, False, False, False, False, False,\n",
              "                    False, False, False, False, False, False, False, False,\n",
              "                    False, False, False, False, False, False, False, False,\n",
              "                    False, False, False, False, False, False, False, False,\n",
              "                    False, False, False, False, False, False, False, False,\n",
              "                    False, False, False, False, False, False, False, False,\n",
              "                    False, False, False, False, False, False, False, False,\n",
              "                    False, False, False, False, False, False, False, False,\n",
              "                    False, False, False, False, False, False, False, False,\n",
              "                    False, False, False, False, False, False, False, False,\n",
              "                    False, False, False, False, False, False, False, False,\n",
              "                    False, False, False, False, False, False, False, False],\n",
              "        fill_value='?',\n",
              "             dtype=object),\n",
              " 'params': [{'n_neighbors': 1, 'p': 1, 'weights': 'uniform'},\n",
              "  {'n_neighbors': 1, 'p': 1, 'weights': 'distance'},\n",
              "  {'n_neighbors': 1, 'p': 2, 'weights': 'uniform'},\n",
              "  {'n_neighbors': 1, 'p': 2, 'weights': 'distance'},\n",
              "  {'n_neighbors': 2, 'p': 1, 'weights': 'uniform'},\n",
              "  {'n_neighbors': 2, 'p': 1, 'weights': 'distance'},\n",
              "  {'n_neighbors': 2, 'p': 2, 'weights': 'uniform'},\n",
              "  {'n_neighbors': 2, 'p': 2, 'weights': 'distance'},\n",
              "  {'n_neighbors': 3, 'p': 1, 'weights': 'uniform'},\n",
              "  {'n_neighbors': 3, 'p': 1, 'weights': 'distance'},\n",
              "  {'n_neighbors': 3, 'p': 2, 'weights': 'uniform'},\n",
              "  {'n_neighbors': 3, 'p': 2, 'weights': 'distance'},\n",
              "  {'n_neighbors': 4, 'p': 1, 'weights': 'uniform'},\n",
              "  {'n_neighbors': 4, 'p': 1, 'weights': 'distance'},\n",
              "  {'n_neighbors': 4, 'p': 2, 'weights': 'uniform'},\n",
              "  {'n_neighbors': 4, 'p': 2, 'weights': 'distance'},\n",
              "  {'n_neighbors': 5, 'p': 1, 'weights': 'uniform'},\n",
              "  {'n_neighbors': 5, 'p': 1, 'weights': 'distance'},\n",
              "  {'n_neighbors': 5, 'p': 2, 'weights': 'uniform'},\n",
              "  {'n_neighbors': 5, 'p': 2, 'weights': 'distance'},\n",
              "  {'n_neighbors': 6, 'p': 1, 'weights': 'uniform'},\n",
              "  {'n_neighbors': 6, 'p': 1, 'weights': 'distance'},\n",
              "  {'n_neighbors': 6, 'p': 2, 'weights': 'uniform'},\n",
              "  {'n_neighbors': 6, 'p': 2, 'weights': 'distance'},\n",
              "  {'n_neighbors': 7, 'p': 1, 'weights': 'uniform'},\n",
              "  {'n_neighbors': 7, 'p': 1, 'weights': 'distance'},\n",
              "  {'n_neighbors': 7, 'p': 2, 'weights': 'uniform'},\n",
              "  {'n_neighbors': 7, 'p': 2, 'weights': 'distance'},\n",
              "  {'n_neighbors': 8, 'p': 1, 'weights': 'uniform'},\n",
              "  {'n_neighbors': 8, 'p': 1, 'weights': 'distance'},\n",
              "  {'n_neighbors': 8, 'p': 2, 'weights': 'uniform'},\n",
              "  {'n_neighbors': 8, 'p': 2, 'weights': 'distance'},\n",
              "  {'n_neighbors': 9, 'p': 1, 'weights': 'uniform'},\n",
              "  {'n_neighbors': 9, 'p': 1, 'weights': 'distance'},\n",
              "  {'n_neighbors': 9, 'p': 2, 'weights': 'uniform'},\n",
              "  {'n_neighbors': 9, 'p': 2, 'weights': 'distance'},\n",
              "  {'n_neighbors': 10, 'p': 1, 'weights': 'uniform'},\n",
              "  {'n_neighbors': 10, 'p': 1, 'weights': 'distance'},\n",
              "  {'n_neighbors': 10, 'p': 2, 'weights': 'uniform'},\n",
              "  {'n_neighbors': 10, 'p': 2, 'weights': 'distance'},\n",
              "  {'n_neighbors': 11, 'p': 1, 'weights': 'uniform'},\n",
              "  {'n_neighbors': 11, 'p': 1, 'weights': 'distance'},\n",
              "  {'n_neighbors': 11, 'p': 2, 'weights': 'uniform'},\n",
              "  {'n_neighbors': 11, 'p': 2, 'weights': 'distance'},\n",
              "  {'n_neighbors': 12, 'p': 1, 'weights': 'uniform'},\n",
              "  {'n_neighbors': 12, 'p': 1, 'weights': 'distance'},\n",
              "  {'n_neighbors': 12, 'p': 2, 'weights': 'uniform'},\n",
              "  {'n_neighbors': 12, 'p': 2, 'weights': 'distance'},\n",
              "  {'n_neighbors': 13, 'p': 1, 'weights': 'uniform'},\n",
              "  {'n_neighbors': 13, 'p': 1, 'weights': 'distance'},\n",
              "  {'n_neighbors': 13, 'p': 2, 'weights': 'uniform'},\n",
              "  {'n_neighbors': 13, 'p': 2, 'weights': 'distance'},\n",
              "  {'n_neighbors': 14, 'p': 1, 'weights': 'uniform'},\n",
              "  {'n_neighbors': 14, 'p': 1, 'weights': 'distance'},\n",
              "  {'n_neighbors': 14, 'p': 2, 'weights': 'uniform'},\n",
              "  {'n_neighbors': 14, 'p': 2, 'weights': 'distance'},\n",
              "  {'n_neighbors': 15, 'p': 1, 'weights': 'uniform'},\n",
              "  {'n_neighbors': 15, 'p': 1, 'weights': 'distance'},\n",
              "  {'n_neighbors': 15, 'p': 2, 'weights': 'uniform'},\n",
              "  {'n_neighbors': 15, 'p': 2, 'weights': 'distance'},\n",
              "  {'n_neighbors': 16, 'p': 1, 'weights': 'uniform'},\n",
              "  {'n_neighbors': 16, 'p': 1, 'weights': 'distance'},\n",
              "  {'n_neighbors': 16, 'p': 2, 'weights': 'uniform'},\n",
              "  {'n_neighbors': 16, 'p': 2, 'weights': 'distance'},\n",
              "  {'n_neighbors': 17, 'p': 1, 'weights': 'uniform'},\n",
              "  {'n_neighbors': 17, 'p': 1, 'weights': 'distance'},\n",
              "  {'n_neighbors': 17, 'p': 2, 'weights': 'uniform'},\n",
              "  {'n_neighbors': 17, 'p': 2, 'weights': 'distance'},\n",
              "  {'n_neighbors': 18, 'p': 1, 'weights': 'uniform'},\n",
              "  {'n_neighbors': 18, 'p': 1, 'weights': 'distance'},\n",
              "  {'n_neighbors': 18, 'p': 2, 'weights': 'uniform'},\n",
              "  {'n_neighbors': 18, 'p': 2, 'weights': 'distance'},\n",
              "  {'n_neighbors': 19, 'p': 1, 'weights': 'uniform'},\n",
              "  {'n_neighbors': 19, 'p': 1, 'weights': 'distance'},\n",
              "  {'n_neighbors': 19, 'p': 2, 'weights': 'uniform'},\n",
              "  {'n_neighbors': 19, 'p': 2, 'weights': 'distance'},\n",
              "  {'n_neighbors': 20, 'p': 1, 'weights': 'uniform'},\n",
              "  {'n_neighbors': 20, 'p': 1, 'weights': 'distance'},\n",
              "  {'n_neighbors': 20, 'p': 2, 'weights': 'uniform'},\n",
              "  {'n_neighbors': 20, 'p': 2, 'weights': 'distance'},\n",
              "  {'n_neighbors': 21, 'p': 1, 'weights': 'uniform'},\n",
              "  {'n_neighbors': 21, 'p': 1, 'weights': 'distance'},\n",
              "  {'n_neighbors': 21, 'p': 2, 'weights': 'uniform'},\n",
              "  {'n_neighbors': 21, 'p': 2, 'weights': 'distance'},\n",
              "  {'n_neighbors': 22, 'p': 1, 'weights': 'uniform'},\n",
              "  {'n_neighbors': 22, 'p': 1, 'weights': 'distance'},\n",
              "  {'n_neighbors': 22, 'p': 2, 'weights': 'uniform'},\n",
              "  {'n_neighbors': 22, 'p': 2, 'weights': 'distance'},\n",
              "  {'n_neighbors': 23, 'p': 1, 'weights': 'uniform'},\n",
              "  {'n_neighbors': 23, 'p': 1, 'weights': 'distance'},\n",
              "  {'n_neighbors': 23, 'p': 2, 'weights': 'uniform'},\n",
              "  {'n_neighbors': 23, 'p': 2, 'weights': 'distance'},\n",
              "  {'n_neighbors': 24, 'p': 1, 'weights': 'uniform'},\n",
              "  {'n_neighbors': 24, 'p': 1, 'weights': 'distance'},\n",
              "  {'n_neighbors': 24, 'p': 2, 'weights': 'uniform'},\n",
              "  {'n_neighbors': 24, 'p': 2, 'weights': 'distance'},\n",
              "  {'n_neighbors': 25, 'p': 1, 'weights': 'uniform'},\n",
              "  {'n_neighbors': 25, 'p': 1, 'weights': 'distance'},\n",
              "  {'n_neighbors': 25, 'p': 2, 'weights': 'uniform'},\n",
              "  {'n_neighbors': 25, 'p': 2, 'weights': 'distance'},\n",
              "  {'n_neighbors': 26, 'p': 1, 'weights': 'uniform'},\n",
              "  {'n_neighbors': 26, 'p': 1, 'weights': 'distance'},\n",
              "  {'n_neighbors': 26, 'p': 2, 'weights': 'uniform'},\n",
              "  {'n_neighbors': 26, 'p': 2, 'weights': 'distance'},\n",
              "  {'n_neighbors': 27, 'p': 1, 'weights': 'uniform'},\n",
              "  {'n_neighbors': 27, 'p': 1, 'weights': 'distance'},\n",
              "  {'n_neighbors': 27, 'p': 2, 'weights': 'uniform'},\n",
              "  {'n_neighbors': 27, 'p': 2, 'weights': 'distance'},\n",
              "  {'n_neighbors': 28, 'p': 1, 'weights': 'uniform'},\n",
              "  {'n_neighbors': 28, 'p': 1, 'weights': 'distance'},\n",
              "  {'n_neighbors': 28, 'p': 2, 'weights': 'uniform'},\n",
              "  {'n_neighbors': 28, 'p': 2, 'weights': 'distance'},\n",
              "  {'n_neighbors': 29, 'p': 1, 'weights': 'uniform'},\n",
              "  {'n_neighbors': 29, 'p': 1, 'weights': 'distance'},\n",
              "  {'n_neighbors': 29, 'p': 2, 'weights': 'uniform'},\n",
              "  {'n_neighbors': 29, 'p': 2, 'weights': 'distance'},\n",
              "  {'n_neighbors': 30, 'p': 1, 'weights': 'uniform'},\n",
              "  {'n_neighbors': 30, 'p': 1, 'weights': 'distance'},\n",
              "  {'n_neighbors': 30, 'p': 2, 'weights': 'uniform'},\n",
              "  {'n_neighbors': 30, 'p': 2, 'weights': 'distance'}],\n",
              " 'rank_test_score': array([  1,   1,  56,  56,  40,   1, 120,  56,  34,   6,  99,  56,  48,\n",
              "         18, 117,  75,  70,  45, 114,  66,  41,  29, 113,  75,  30,  37,\n",
              "        116,  75,  89,  27, 117,  89,  14,  12, 103,  69,  33,  18, 115,\n",
              "        109,  42,  34, 119,  65,  15,  18, 112,  71,  38,   5,  97,  79,\n",
              "         31,   7,  99,  93,  24,   4,  80,  86,  39,  26, 106,  60,  42,\n",
              "          7, 107,  60,  44,  16,  99,  82,  46,   9,  99,  60,  50,   9,\n",
              "         93,  86,  53,   9,  66,  82,  89,  27, 103,  71,  46,  21, 103,\n",
              "         82,  53,  36, 109,  82,  66,  24,  89,  98,  80,  31, 109,  86,\n",
              "         53,  21,  93,  93,  50,  17,  75,  71,  49,  13,  63, 107,  50,\n",
              "         21,  63,  71], dtype=int32),\n",
              " 'split0_test_score': array([0.83333333, 0.83333333, 0.80555556, 0.80555556, 0.66666667,\n",
              "        0.83333333, 0.61111111, 0.80555556, 0.77777778, 0.83333333,\n",
              "        0.63888889, 0.72222222, 0.66666667, 0.80555556, 0.63888889,\n",
              "        0.66666667, 0.75      , 0.75      , 0.72222222, 0.77777778,\n",
              "        0.75      , 0.77777778, 0.66666667, 0.75      , 0.75      ,\n",
              "        0.75      , 0.66666667, 0.75      , 0.63888889, 0.77777778,\n",
              "        0.69444444, 0.75      , 0.80555556, 0.80555556, 0.66666667,\n",
              "        0.77777778, 0.77777778, 0.80555556, 0.69444444, 0.75      ,\n",
              "        0.77777778, 0.75      , 0.69444444, 0.77777778, 0.72222222,\n",
              "        0.75      , 0.66666667, 0.75      , 0.75      , 0.77777778,\n",
              "        0.75      , 0.77777778, 0.75      , 0.77777778, 0.69444444,\n",
              "        0.77777778, 0.77777778, 0.80555556, 0.77777778, 0.77777778,\n",
              "        0.77777778, 0.77777778, 0.66666667, 0.77777778, 0.80555556,\n",
              "        0.80555556, 0.69444444, 0.75      , 0.75      , 0.77777778,\n",
              "        0.63888889, 0.75      , 0.77777778, 0.77777778, 0.72222222,\n",
              "        0.75      , 0.72222222, 0.77777778, 0.72222222, 0.77777778,\n",
              "        0.75      , 0.77777778, 0.77777778, 0.77777778, 0.69444444,\n",
              "        0.77777778, 0.75      , 0.77777778, 0.75      , 0.77777778,\n",
              "        0.75      , 0.77777778, 0.72222222, 0.77777778, 0.72222222,\n",
              "        0.77777778, 0.72222222, 0.80555556, 0.75      , 0.77777778,\n",
              "        0.72222222, 0.80555556, 0.72222222, 0.77777778, 0.72222222,\n",
              "        0.80555556, 0.72222222, 0.77777778, 0.72222222, 0.80555556,\n",
              "        0.72222222, 0.77777778, 0.75      , 0.80555556, 0.72222222,\n",
              "        0.75      , 0.72222222, 0.77777778, 0.72222222, 0.77777778]),\n",
              " 'split1_test_score': array([0.75      , 0.75      , 0.63888889, 0.63888889, 0.75      ,\n",
              "        0.75      , 0.61111111, 0.63888889, 0.69444444, 0.69444444,\n",
              "        0.69444444, 0.72222222, 0.66666667, 0.69444444, 0.69444444,\n",
              "        0.69444444, 0.66666667, 0.66666667, 0.66666667, 0.63888889,\n",
              "        0.63888889, 0.66666667, 0.63888889, 0.63888889, 0.69444444,\n",
              "        0.72222222, 0.61111111, 0.63888889, 0.66666667, 0.66666667,\n",
              "        0.63888889, 0.63888889, 0.69444444, 0.69444444, 0.69444444,\n",
              "        0.66666667, 0.75      , 0.69444444, 0.69444444, 0.66666667,\n",
              "        0.75      , 0.72222222, 0.66666667, 0.66666667, 0.83333333,\n",
              "        0.77777778, 0.66666667, 0.69444444, 0.77777778, 0.75      ,\n",
              "        0.66666667, 0.69444444, 0.80555556, 0.75      , 0.63888889,\n",
              "        0.66666667, 0.77777778, 0.77777778, 0.63888889, 0.63888889,\n",
              "        0.77777778, 0.72222222, 0.63888889, 0.63888889, 0.75      ,\n",
              "        0.75      , 0.63888889, 0.63888889, 0.75      , 0.75      ,\n",
              "        0.69444444, 0.63888889, 0.72222222, 0.77777778, 0.66666667,\n",
              "        0.63888889, 0.72222222, 0.77777778, 0.66666667, 0.63888889,\n",
              "        0.72222222, 0.77777778, 0.66666667, 0.61111111, 0.72222222,\n",
              "        0.75      , 0.66666667, 0.66666667, 0.75      , 0.80555556,\n",
              "        0.66666667, 0.61111111, 0.72222222, 0.75      , 0.66666667,\n",
              "        0.61111111, 0.72222222, 0.77777778, 0.63888889, 0.61111111,\n",
              "        0.72222222, 0.77777778, 0.66666667, 0.63888889, 0.75      ,\n",
              "        0.80555556, 0.69444444, 0.66666667, 0.72222222, 0.77777778,\n",
              "        0.72222222, 0.66666667, 0.72222222, 0.80555556, 0.72222222,\n",
              "        0.63888889, 0.72222222, 0.80555556, 0.72222222, 0.66666667]),\n",
              " 'split2_test_score': array([0.77777778, 0.77777778, 0.66666667, 0.66666667, 0.69444444,\n",
              "        0.77777778, 0.63888889, 0.66666667, 0.69444444, 0.72222222,\n",
              "        0.66666667, 0.66666667, 0.72222222, 0.69444444, 0.63888889,\n",
              "        0.69444444, 0.69444444, 0.75      , 0.63888889, 0.66666667,\n",
              "        0.77777778, 0.75      , 0.69444444, 0.66666667, 0.77777778,\n",
              "        0.75      , 0.61111111, 0.66666667, 0.72222222, 0.72222222,\n",
              "        0.63888889, 0.63888889, 0.77777778, 0.72222222, 0.69444444,\n",
              "        0.66666667, 0.75      , 0.69444444, 0.66666667, 0.61111111,\n",
              "        0.69444444, 0.69444444, 0.66666667, 0.63888889, 0.72222222,\n",
              "        0.66666667, 0.66666667, 0.61111111, 0.72222222, 0.69444444,\n",
              "        0.69444444, 0.61111111, 0.66666667, 0.66666667, 0.66666667,\n",
              "        0.61111111, 0.69444444, 0.66666667, 0.66666667, 0.61111111,\n",
              "        0.63888889, 0.63888889, 0.66666667, 0.61111111, 0.66666667,\n",
              "        0.63888889, 0.66666667, 0.63888889, 0.63888889, 0.63888889,\n",
              "        0.66666667, 0.61111111, 0.66666667, 0.66666667, 0.61111111,\n",
              "        0.63888889, 0.63888889, 0.66666667, 0.66666667, 0.61111111,\n",
              "        0.63888889, 0.66666667, 0.63888889, 0.61111111, 0.61111111,\n",
              "        0.63888889, 0.63888889, 0.61111111, 0.66666667, 0.63888889,\n",
              "        0.63888889, 0.61111111, 0.66666667, 0.66666667, 0.63888889,\n",
              "        0.61111111, 0.63888889, 0.66666667, 0.63888889, 0.61111111,\n",
              "        0.63888889, 0.63888889, 0.63888889, 0.61111111, 0.63888889,\n",
              "        0.61111111, 0.63888889, 0.61111111, 0.63888889, 0.61111111,\n",
              "        0.61111111, 0.61111111, 0.63888889, 0.63888889, 0.61111111,\n",
              "        0.61111111, 0.63888889, 0.63888889, 0.61111111, 0.61111111]),\n",
              " 'split3_test_score': array([0.77142857, 0.77142857, 0.68571429, 0.68571429, 0.74285714,\n",
              "        0.77142857, 0.65714286, 0.68571429, 0.77142857, 0.77142857,\n",
              "        0.65714286, 0.65714286, 0.71428571, 0.77142857, 0.65714286,\n",
              "        0.65714286, 0.68571429, 0.71428571, 0.65714286, 0.65714286,\n",
              "        0.71428571, 0.74285714, 0.68571429, 0.65714286, 0.77142857,\n",
              "        0.71428571, 0.74285714, 0.65714286, 0.74285714, 0.8       ,\n",
              "        0.65714286, 0.65714286, 0.77142857, 0.8       , 0.68571429,\n",
              "        0.62857143, 0.74285714, 0.8       , 0.65714286, 0.62857143,\n",
              "        0.74285714, 0.77142857, 0.62857143, 0.68571429, 0.8       ,\n",
              "        0.82857143, 0.71428571, 0.68571429, 0.74285714, 0.85714286,\n",
              "        0.68571429, 0.65714286, 0.8       , 0.85714286, 0.74285714,\n",
              "        0.65714286, 0.8       , 0.85714286, 0.68571429, 0.68571429,\n",
              "        0.77142857, 0.85714286, 0.71428571, 0.74285714, 0.71428571,\n",
              "        0.85714286, 0.71428571, 0.74285714, 0.77142857, 0.85714286,\n",
              "        0.71428571, 0.71428571, 0.71428571, 0.82857143, 0.71428571,\n",
              "        0.74285714, 0.74285714, 0.82857143, 0.71428571, 0.68571429,\n",
              "        0.71428571, 0.82857143, 0.71428571, 0.71428571, 0.71428571,\n",
              "        0.82857143, 0.71428571, 0.68571429, 0.71428571, 0.8       ,\n",
              "        0.71428571, 0.71428571, 0.71428571, 0.8       , 0.71428571,\n",
              "        0.71428571, 0.71428571, 0.8       , 0.71428571, 0.68571429,\n",
              "        0.71428571, 0.8       , 0.71428571, 0.68571429, 0.71428571,\n",
              "        0.8       , 0.68571429, 0.65714286, 0.74285714, 0.82857143,\n",
              "        0.74285714, 0.68571429, 0.74285714, 0.8       , 0.74285714,\n",
              "        0.65714286, 0.74285714, 0.8       , 0.74285714, 0.68571429]),\n",
              " 'split4_test_score': array([0.91428571, 0.91428571, 0.82857143, 0.82857143, 0.88571429,\n",
              "        0.91428571, 0.8       , 0.82857143, 0.85714286, 0.88571429,\n",
              "        0.85714286, 0.85714286, 0.88571429, 0.88571429, 0.77142857,\n",
              "        0.85714286, 0.8       , 0.82857143, 0.77142857, 0.85714286,\n",
              "        0.85714286, 0.88571429, 0.77142857, 0.85714286, 0.82857143,\n",
              "        0.85714286, 0.77142857, 0.85714286, 0.77142857, 0.85714286,\n",
              "        0.77142857, 0.85714286, 0.82857143, 0.85714286, 0.77142857,\n",
              "        0.85714286, 0.8       , 0.85714286, 0.74285714, 0.82857143,\n",
              "        0.77142857, 0.85714286, 0.74285714, 0.82857143, 0.8       ,\n",
              "        0.82857143, 0.74285714, 0.82857143, 0.8       , 0.82857143,\n",
              "        0.74285714, 0.82857143, 0.8       , 0.82857143, 0.77142857,\n",
              "        0.82857143, 0.8       , 0.82857143, 0.8       , 0.82857143,\n",
              "        0.8       , 0.82857143, 0.8       , 0.82857143, 0.8       ,\n",
              "        0.82857143, 0.77142857, 0.82857143, 0.8       , 0.82857143,\n",
              "        0.8       , 0.82857143, 0.8       , 0.82857143, 0.8       ,\n",
              "        0.82857143, 0.8       , 0.82857143, 0.77142857, 0.82857143,\n",
              "        0.8       , 0.82857143, 0.8       , 0.82857143, 0.8       ,\n",
              "        0.82857143, 0.74285714, 0.82857143, 0.8       , 0.82857143,\n",
              "        0.74285714, 0.82857143, 0.8       , 0.8       , 0.74285714,\n",
              "        0.82857143, 0.8       , 0.8       , 0.8       , 0.82857143,\n",
              "        0.77142857, 0.8       , 0.74285714, 0.82857143, 0.8       ,\n",
              "        0.82857143, 0.8       , 0.82857143, 0.8       , 0.82857143,\n",
              "        0.77142857, 0.82857143, 0.8       , 0.82857143, 0.8       ,\n",
              "        0.82857143, 0.8       , 0.82857143, 0.8       , 0.82857143]),\n",
              " 'std_fit_time': array([1.49237499e-03, 6.23872498e-05, 1.54908725e-04, 4.65956527e-05,\n",
              "        1.80988002e-04, 1.62016608e-05, 5.03795100e-05, 8.11610462e-05,\n",
              "        5.80815062e-05, 1.54091416e-04, 5.07318434e-05, 4.58868501e-05,\n",
              "        1.64928413e-04, 3.38723839e-04, 2.08105929e-04, 1.82926729e-04,\n",
              "        6.37314937e-05, 2.10931686e-04, 6.41938648e-05, 4.90649912e-05,\n",
              "        4.80798479e-05, 1.79727762e-05, 1.92530052e-05, 4.67759996e-05,\n",
              "        7.93909382e-05, 6.59971567e-05, 4.99204554e-05, 7.84638985e-05,\n",
              "        3.31864274e-05, 1.71861836e-04, 3.31102895e-05, 5.82573378e-04,\n",
              "        6.02768944e-05, 2.03084492e-05, 1.40136559e-04, 3.87186487e-05,\n",
              "        5.75748832e-05, 6.63034481e-05, 4.10450169e-05, 5.14435034e-05,\n",
              "        4.21939188e-05, 6.80755146e-05, 1.10972250e-04, 4.27899648e-05,\n",
              "        4.39943720e-05, 4.82111844e-05, 3.43502845e-05, 2.00404339e-04,\n",
              "        5.78384800e-05, 7.53746679e-05, 8.00372839e-05, 4.88085167e-05,\n",
              "        1.50212636e-04, 1.20768893e-04, 1.91380754e-04, 1.21833937e-04,\n",
              "        5.38294876e-05, 7.49934034e-05, 5.35737953e-05, 6.44268588e-05,\n",
              "        1.23904060e-04, 1.53315745e-04, 1.72674316e-05, 4.39919429e-05,\n",
              "        2.99321589e-05, 1.04283905e-04, 4.61313767e-05, 6.55416100e-05,\n",
              "        3.48246174e-04, 4.38087339e-04, 1.26163489e-04, 1.63388612e-04,\n",
              "        1.13435240e-04, 1.22964035e-04, 7.54702464e-04, 2.16497429e-04,\n",
              "        7.74859062e-05, 1.13777623e-04, 5.49971253e-05, 2.61592474e-04,\n",
              "        2.15175567e-04, 8.98647162e-05, 1.02690223e-04, 4.51370019e-04,\n",
              "        4.59880835e-04, 2.15075581e-04, 1.96406244e-04, 3.17504463e-04,\n",
              "        2.82764419e-04, 1.06858601e-04, 1.80717169e-04, 9.61740949e-05,\n",
              "        1.01488200e-04, 1.51351795e-04, 1.66400154e-04, 3.40158551e-04,\n",
              "        9.05574402e-05, 2.44450996e-04, 1.71518598e-04, 1.74336452e-04,\n",
              "        7.71348920e-05, 1.22892565e-04, 8.55651829e-05, 1.94036084e-04,\n",
              "        2.59550459e-04, 9.20714891e-05, 7.78249664e-05, 1.25678156e-04,\n",
              "        1.74866829e-04, 6.53439155e-04, 1.03795040e-04, 3.18490979e-04,\n",
              "        2.66192310e-04, 6.02626718e-05, 2.88506996e-04, 2.99167967e-04,\n",
              "        1.19414211e-04, 2.18826250e-04, 9.80181201e-05, 3.13910561e-04]),\n",
              " 'std_score_time': array([4.14136050e-04, 6.96050618e-05, 3.05811302e-04, 2.94009455e-05,\n",
              "        3.81789669e-05, 1.14605706e-05, 5.25315723e-05, 4.50828288e-05,\n",
              "        6.44296115e-05, 1.35989878e-04, 1.45337776e-04, 1.47391283e-05,\n",
              "        8.09878681e-05, 1.30598342e-04, 6.23716127e-05, 7.87870924e-05,\n",
              "        5.83151765e-05, 1.23163410e-04, 4.70917676e-05, 3.51505646e-05,\n",
              "        6.07989629e-05, 8.58259200e-05, 5.49516294e-05, 2.89056939e-05,\n",
              "        6.47824302e-05, 2.66391129e-05, 8.91176119e-05, 1.75451453e-05,\n",
              "        3.15230117e-05, 1.61008640e-05, 2.37268535e-05, 3.66074641e-04,\n",
              "        8.89972071e-05, 2.71761206e-05, 3.93500746e-05, 7.60347314e-05,\n",
              "        1.90657361e-05, 2.31702628e-05, 8.47165326e-05, 5.23764759e-05,\n",
              "        4.48555522e-05, 5.52179488e-05, 7.96699718e-05, 1.03884794e-04,\n",
              "        7.66856747e-05, 2.64663953e-05, 3.78196502e-05, 9.28058644e-05,\n",
              "        6.49408445e-05, 3.50961070e-04, 1.72080086e-04, 1.96714834e-05,\n",
              "        3.21938895e-05, 8.35417613e-05, 2.66270608e-04, 8.36600432e-05,\n",
              "        6.57816519e-05, 1.13241205e-04, 7.13196970e-05, 4.01230631e-05,\n",
              "        1.71684581e-04, 1.86114045e-04, 2.45096155e-05, 6.72070808e-05,\n",
              "        3.66217767e-05, 7.98033107e-05, 1.08866570e-04, 4.58409926e-05,\n",
              "        2.96111053e-04, 2.75809966e-04, 4.63276196e-05, 2.15549626e-04,\n",
              "        1.05532261e-04, 1.66135335e-04, 1.19939136e-03, 1.08516090e-04,\n",
              "        2.56999852e-04, 3.22084126e-04, 5.51928660e-05, 1.11612739e-04,\n",
              "        1.42347704e-04, 1.11994361e-04, 1.34479289e-04, 5.62736269e-04,\n",
              "        1.95957366e-04, 1.83943937e-04, 3.85048040e-04, 3.79102143e-04,\n",
              "        2.49730350e-04, 7.54520637e-05, 2.77481880e-04, 5.24044688e-05,\n",
              "        3.31545531e-05, 1.10203288e-04, 1.88182623e-04, 1.10135821e-04,\n",
              "        1.76332421e-04, 5.60008842e-04, 1.83388211e-04, 1.88462936e-04,\n",
              "        2.98317192e-05, 6.71974380e-05, 7.24546805e-05, 1.70807530e-04,\n",
              "        3.40120728e-04, 1.34879221e-04, 6.00480562e-05, 1.39106451e-04,\n",
              "        1.38120935e-04, 3.92151053e-04, 1.23065805e-04, 4.75092160e-04,\n",
              "        5.60465734e-04, 2.70094263e-04, 4.39859589e-04, 4.30648018e-04,\n",
              "        2.53455345e-04, 2.18288947e-04, 3.05638744e-04, 1.13921676e-04]),\n",
              " 'std_test_score': array([0.05923507, 0.05923507, 0.07691226, 0.07691226, 0.07547047,\n",
              "        0.05923507, 0.07038103, 0.07691226, 0.06078474, 0.07034379,\n",
              "        0.07920396, 0.07139258, 0.08070988, 0.07221193, 0.04994076,\n",
              "        0.07311346, 0.04893062, 0.05303915, 0.04877951, 0.08428497,\n",
              "        0.07189442, 0.07087901, 0.04430648, 0.0811181 , 0.04346831,\n",
              "        0.051275  , 0.0662983 , 0.0811181 , 0.04883526, 0.06538758,\n",
              "        0.04994076, 0.08502456, 0.04541292, 0.05929076, 0.03590741,\n",
              "        0.08507937, 0.02156278, 0.06507665, 0.02983705, 0.08136279,\n",
              "        0.02943407, 0.05547523, 0.03784175, 0.07172707, 0.04521553,\n",
              "        0.05999832, 0.03164428, 0.07237573, 0.02730159, 0.05748443,\n",
              "        0.03276538, 0.07924054, 0.05289169, 0.06630362, 0.04852732,\n",
              "        0.08134917, 0.0390631 , 0.06566212, 0.06347539, 0.08254212,\n",
              "        0.05796151, 0.07801131, 0.05678814, 0.0825641 , 0.0524785 ,\n",
              "        0.07706737, 0.04503743, 0.0726197 , 0.05475385, 0.07572843,\n",
              "        0.05484489, 0.07810653, 0.04755975, 0.05913971, 0.06272071,\n",
              "        0.0726197 , 0.05171876, 0.05913971, 0.03919574, 0.08254212,\n",
              "        0.0525121 , 0.05913971, 0.06195684, 0.08742906, 0.06045848,\n",
              "        0.0698207 , 0.04325331, 0.07851224, 0.04419602, 0.06759482,\n",
              "        0.04325331, 0.08742906, 0.04279714, 0.04964068, 0.03830103,\n",
              "        0.08742906, 0.0510302 , 0.0525404 , 0.06295927, 0.08780174,\n",
              "        0.04260242, 0.06349881, 0.03830103, 0.08254212, 0.0525121 ,\n",
              "        0.08013059, 0.0531464 , 0.08134917, 0.05171876, 0.0817693 ,\n",
              "        0.05450157, 0.07851224, 0.05258115, 0.0691171 , 0.06130026,\n",
              "        0.08057584, 0.05171876, 0.06759482, 0.06130026, 0.07851224])}"
            ]
          },
          "metadata": {
            "tags": []
          },
          "execution_count": 45
        }
      ]
    },
    {
      "cell_type": "code",
      "metadata": {
        "id": "idAqUdAqIiVb",
        "colab_type": "code",
        "colab": {
          "base_uri": "https://localhost:8080/",
          "height": 34
        },
        "outputId": "0d074770-920e-42a9-cfc2-dd54f010d9c9"
      },
      "source": [
        "print(\"Melhores parametros {} com o valor de acurácia {}\".format(grid.best_params_, grid.best_score_))"
      ],
      "execution_count": 47,
      "outputs": [
        {
          "output_type": "stream",
          "text": [
            "Melhores parametros {'n_neighbors': 1, 'p': 1, 'weights': 'uniform'} com o valor de acurácia 0.8093650793650793\n"
          ],
          "name": "stdout"
        }
      ]
    },
    {
      "cell_type": "markdown",
      "metadata": {
        "id": "4eBowEuJJi54",
        "colab_type": "text"
      },
      "source": [
        "**Visualizando as fronteiras de complexidade**\n",
        "Visualizar o número de vizinhos do KNN\n"
      ]
    },
    {
      "cell_type": "code",
      "metadata": {
        "id": "rw1Q16C3KjR9",
        "colab_type": "code",
        "colab": {}
      },
      "source": [
        "# Selecionar os dados\n",
        "x = wine.data[:,[0,2]]\n",
        "y = wine.target"
      ],
      "execution_count": 54,
      "outputs": []
    },
    {
      "cell_type": "code",
      "metadata": {
        "id": "Hx_y9qtoK1f9",
        "colab_type": "code",
        "colab": {}
      },
      "source": [
        "# Função para plot de fronteiras de acordo com o número de vizinhos\n",
        "\n",
        "def plot_fronteiras(n_vizinhos):\n",
        "    knn = KNeighborsClassifier(n_neighbors=n_vizinhos)\n",
        "    knn.fit(x, y)\n",
        "    plt.figure(figsize=(8,5))\n",
        "    plot_decision_regions(x,y,clf=knn,legend=2)\n",
        "    plt.xlabel('alcohol')\n",
        "    plt.ylabel('malic_acid')\n",
        "    plt.title('Fronteiras de Complexidade - KNN')"
      ],
      "execution_count": 58,
      "outputs": []
    },
    {
      "cell_type": "code",
      "metadata": {
        "id": "kFUg-tr7LGNG",
        "colab_type": "code",
        "colab": {
          "base_uri": "https://localhost:8080/",
          "height": 404
        },
        "outputId": "a5b620b9-9283-44e0-dc7d-c1b9eb1e690f"
      },
      "source": [
        "plot_fronteiras(1)\n",
        "# Cada vez que aumenta o número de K ele vai errar com mais frequencia a distribuição das classes"
      ],
      "execution_count": 64,
      "outputs": [
        {
          "output_type": "stream",
          "text": [
            "/usr/local/lib/python3.6/dist-packages/mlxtend/plotting/decision_regions.py:244: MatplotlibDeprecationWarning: Passing unsupported keyword arguments to axis() will raise a TypeError in 3.3.\n",
            "  ax.axis(xmin=xx.min(), xmax=xx.max(), y_min=yy.min(), y_max=yy.max())\n"
          ],
          "name": "stderr"
        },
        {
          "output_type": "display_data",
          "data": {
            "image/png": "[encoded data removed]",
            "text/plain": [
              "<Figure size 576x360 with 1 Axes>"
            ]
          },
          "metadata": {
            "tags": [],
            "needs_background": "light"
          }
        }
      ]
    },
    {
      "cell_type": "code",
      "metadata": {
        "id": "qvdCFpWJLeMf",
        "colab_type": "code",
        "colab": {
          "base_uri": "https://localhost:8080/",
          "height": 404
        },
        "outputId": "c4bee173-87c8-45bb-a84b-f9ab289a9de4"
      },
      "source": [
        "plot_fronteiras(3)"
      ],
      "execution_count": 60,
      "outputs": [
        {
          "output_type": "stream",
          "text": [
            "/usr/local/lib/python3.6/dist-packages/mlxtend/plotting/decision_regions.py:244: MatplotlibDeprecationWarning: Passing unsupported keyword arguments to axis() will raise a TypeError in 3.3.\n",
            "  ax.axis(xmin=xx.min(), xmax=xx.max(), y_min=yy.min(), y_max=yy.max())\n"
          ],
          "name": "stderr"
        },
        {
          "output_type": "display_data",
          "data": {
            "image/png": "[encoded data removed]",
            "text/plain": [
              "<Figure size 576x360 with 1 Axes>"
            ]
          },
          "metadata": {
            "tags": [],
            "needs_background": "light"
          }
        }
      ]
    },
    {
      "cell_type": "code",
      "metadata": {
        "id": "woxEcxAFMp_S",
        "colab_type": "code",
        "colab": {
          "base_uri": "https://localhost:8080/",
          "height": 404
        },
        "outputId": "4b7f51e5-d035-41a3-9e7b-86b2a69e20f7"
      },
      "source": [
        "plot_fronteiras(30)"
      ],
      "execution_count": 61,
      "outputs": [
        {
          "output_type": "stream",
          "text": [
            "/usr/local/lib/python3.6/dist-packages/mlxtend/plotting/decision_regions.py:244: MatplotlibDeprecationWarning: Passing unsupported keyword arguments to axis() will raise a TypeError in 3.3.\n",
            "  ax.axis(xmin=xx.min(), xmax=xx.max(), y_min=yy.min(), y_max=yy.max())\n"
          ],
          "name": "stderr"
        },
        {
          "output_type": "display_data",
          "data": {
            "image/png": "[encoded data removed]",
            "text/plain": [
              "<Figure size 576x360 with 1 Axes>"
            ]
          },
          "metadata": {
            "tags": [],
            "needs_background": "light"
          }
        }
      ]
    },
    {
      "cell_type": "code",
      "metadata": {
        "id": "uxr29FMcM4yV",
        "colab_type": "code",
        "colab": {
          "base_uri": "https://localhost:8080/",
          "height": 438
        },
        "outputId": "55dc4032-e1d8-4e87-d086-0a5684c4e7dc"
      },
      "source": [
        "plot_fronteiras(178)"
      ],
      "execution_count": 63,
      "outputs": [
        {
          "output_type": "stream",
          "text": [
            "/usr/local/lib/python3.6/dist-packages/mlxtend/plotting/decision_regions.py:242: UserWarning: No contour levels were found within the data range.\n",
            "  antialiased=True)\n",
            "/usr/local/lib/python3.6/dist-packages/mlxtend/plotting/decision_regions.py:244: MatplotlibDeprecationWarning: Passing unsupported keyword arguments to axis() will raise a TypeError in 3.3.\n",
            "  ax.axis(xmin=xx.min(), xmax=xx.max(), y_min=yy.min(), y_max=yy.max())\n"
          ],
          "name": "stderr"
        },
        {
          "output_type": "display_data",
          "data": {
            "image/png": "[encoded data removed]",
            "text/plain": [
              "<Figure size 576x360 with 1 Axes>"
            ]
          },
          "metadata": {
            "tags": [],
            "needs_background": "light"
          }
        }
      ]
    }
  ]
}